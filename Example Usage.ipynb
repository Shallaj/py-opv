{
 "cells": [
  {
   "cell_type": "markdown",
   "metadata": {},
   "source": [
    "# PyOPV"
   ]
  },
  {
   "cell_type": "markdown",
   "metadata": {},
   "source": [
    "## Installation"
   ]
  },
  {
   "cell_type": "markdown",
   "metadata": {},
   "source": [
    "## Example usage"
   ]
  },
  {
   "cell_type": "markdown",
   "metadata": {},
   "source": [
    "### Importing"
   ]
  },
  {
   "cell_type": "code",
   "execution_count": 3,
   "metadata": {},
   "outputs": [],
   "source": [
    "import pyopv"
   ]
  },
  {
   "cell_type": "markdown",
   "metadata": {},
   "source": [
    "## Getting latest DICOM Standards"
   ]
  },
  {
   "cell_type": "code",
   "execution_count": null,
   "metadata": {},
   "outputs": [],
   "source": [
    "from pyopv import get_dicom_standard # if you run this cell, you will get the latest SAP DICOM standard\n",
    "get_dicom_standard() # if you run this cell, you will get the latest SAP DICOM standard and writes in a csv file in the same directory as this notebook"
   ]
  },
  {
   "cell_type": "markdown",
   "metadata": {},
   "source": [
    "### Checking missing tags"
   ]
  },
  {
   "cell_type": "markdown",
   "metadata": {},
   "source": [
    "A single file"
   ]
  },
  {
   "cell_type": "code",
   "execution_count": null,
   "metadata": {},
   "outputs": [],
   "source": [
    "from pyopv import OPVDicom\n",
    "\n",
    "file_path = '/Users/shallaj/Library/CloudStorage/OneDrive-UniversityofCalifornia,SanDiegoHealth/VF Data Standards/opv_dicom_omop/examples/sample_files/SD1031_20220908_OD_OPV.dcm'\n",
    "m_opvdicom = pyopv.read_dicom(file_path)\n",
    "missing_tags_df, incorrect_tags_df= m_opvdicom.check_dicom_compliance() # check if the dicom file is compliant with the standard\n",
    "display(missing_tags_df)\n",
    "display(incorrect_tags_df)"
   ]
  },
  {
   "cell_type": "markdown",
   "metadata": {},
   "source": [
    "Entire directory"
   ]
  },
  {
   "cell_type": "code",
   "execution_count": null,
   "metadata": {},
   "outputs": [],
   "source": [
    "m_opvdicoms = pyopv.read_dicom_directory('/Users/shallaj/Library/CloudStorage/OneDrive-UniversityofCalifornia,SanDiegoHealth/VF Data Standards/opv_dicom_omop/examples/sample_files', file_extension='dcm')\n",
    "missingtags_df = m_opvdicoms.check_dicom_compliance()\n",
    "missingtags_df.head(5)\n",
    "\n"
   ]
  },
  {
   "cell_type": "markdown",
   "metadata": {},
   "source": [
    "## Converting OPV DICOM to Pandas DataFrame"
   ]
  },
  {
   "cell_type": "markdown",
   "metadata": {},
   "source": [
    "*#* This snippet converts the entire dicom file into a very long pandas DataFrame"
   ]
  },
  {
   "cell_type": "code",
   "execution_count": null,
   "metadata": {},
   "outputs": [],
   "source": [
    "from pyopv import OPVDicom\n",
    "\n",
    "mopv = pyopv.read_dicom('/Users/shallaj/Library/CloudStorage/OneDrive-UniversityofCalifornia,SanDiegoHealth/VF Data Standards/opv_dicom_omop/examples/sample_files/SD1031_20230914_OD_OPV.dcm') \n",
    "mopv_df = mopv.to_pandas()\n",
    "mopv_df.head(2)\n"
   ]
  },
  {
   "cell_type": "markdown",
   "metadata": {},
   "source": [
    "## Bulk Data\n"
   ]
  },
  {
   "cell_type": "code",
   "execution_count": null,
   "metadata": {},
   "outputs": [],
   "source": [
    "from pyopv import OPVDicomSet\n",
    "\n",
    "mopv_set = pyopv.read_dicom_directory('/Users/shallaj/Library/CloudStorage/OneDrive-UniversityofCalifornia,SanDiegoHealth/VF Data Standards/opv_dicom_omop/examples/sample_files', file_extension='dcm')\n",
    "result_df, error_df = mopv_set.to_pandas()\n",
    "display(result_df)\n",
    "display(error_df)"
   ]
  },
  {
   "cell_type": "markdown",
   "metadata": {},
   "source": [
    "# JSON conversion\n",
    "* this snippet will be updated in future versions to accomodate FHIR IG because that IG is not currently available. "
   ]
  },
  {
   "cell_type": "code",
   "execution_count": null,
   "metadata": {},
   "outputs": [],
   "source": [
    "import pydicom\n",
    "\n",
    "file_path =  '/Users/shallaj/Library/CloudStorage/OneDrive-UniversityofCalifornia,SanDiegoHealth/VF Data Standards/opv_dicom_omop/examples/sample_files/SD1031_20230914_OD_OPV.dcm'  # add file path here e.g. data/MY_OPV_FILE.dcm\n",
    "ds = pydicom.dcmread(file_path)\n",
    "json = ds.to_json_dict()\n",
    "json['00080080']['Value']"
   ]
  },
  {
   "cell_type": "code",
   "execution_count": null,
   "metadata": {},
   "outputs": [],
   "source": [
    "# get nested values\n",
    "json = ds.to_json_dict()\n",
    "points = json['00240089']['Value'][0]['00240097']\n",
    "points"
   ]
  },
  {
   "cell_type": "markdown",
   "metadata": {},
   "source": [
    "### Getting pointwise data"
   ]
  },
  {
   "cell_type": "markdown",
   "metadata": {},
   "source": [
    "Single file"
   ]
  },
  {
   "cell_type": "code",
   "execution_count": null,
   "metadata": {},
   "outputs": [],
   "source": [
    "m_opvdicom = pyopv.read_dicom('/Users/shallaj/Library/CloudStorage/OneDrive-UniversityofCalifornia,SanDiegoHealth/VF Data Standards/opv_dicom_omop/examples/sample_files/SD1031_20230914_OD_OPV.dcm')\n",
    "\n",
    "pointwise_data = m_opvdicom.pointwise_to_pandas()\n",
    "pointwise_data.head(5)"
   ]
  },
  {
   "cell_type": "markdown",
   "metadata": {},
   "source": [
    "Entire directory"
   ]
  },
  {
   "cell_type": "code",
   "execution_count": null,
   "metadata": {},
   "outputs": [],
   "source": [
    "m_opvdicoms = pyopv.read_dicom_directory('/Users/shallaj/Library/CloudStorage/OneDrive-UniversityofCalifornia,SanDiegoHealth/VF Data Standards/opv_dicom_omop/examples/sample_files', file_extension='dcm')\n",
    "\n",
    "pointwise_data, error_df = m_opvdicoms.pointwise_to_pandas()\n",
    "pointwise_data.head(3)"
   ]
  },
  {
   "cell_type": "markdown",
   "metadata": {},
   "source": [
    "Writing pointwise data into JSON\n",
    "* single file"
   ]
  },
  {
   "cell_type": "code",
   "execution_count": null,
   "metadata": {},
   "outputs": [],
   "source": [
    "m_opvdicom = pyopv.read_dicom('/Users/shallaj/Library/CloudStorage/OneDrive-UniversityofCalifornia,SanDiegoHealth/VF Data Standards/opv_dicom_omop/examples/sample_files/SD1031_20230914_OD_OPV.dcm')\n",
    "\n",
    "pointwise_data = m_opvdicom.pointwise_to_nested_json()\n",
    "pointwise_data['SD1031']['R']['1.2.276.0.75.2.5.80.25.3.231115115903087.345048637379.415558310'][0]"
   ]
  },
  {
   "cell_type": "markdown",
   "metadata": {},
   "source": [
    "* Bulk data"
   ]
  },
  {
   "cell_type": "code",
   "execution_count": null,
   "metadata": {},
   "outputs": [],
   "source": [
    "from pyopv import OPVDicomSet\n",
    "\n",
    "directory_path = '/Users/shallaj/Library/CloudStorage/OneDrive-UniversityofCalifornia,SanDiegoHealth/VF Data Standards/opv_dicom_omop/examples/sample_files'\n",
    "m_opvdicoms = pyopv.read_dicom_directory(directory_path, file_extension='dcm')\n",
    "nested_json = m_opvdicoms.opvdicoms_pointwise_to_nested_json()\n",
    "nested_json['SD1031']['R']['1.2.276.0.75.2.5.80.25.3.221018115130492.345048637379.430073977'][0]"
   ]
  },
  {
   "cell_type": "markdown",
   "metadata": {},
   "source": [
    "# Example conversion of a JSON resource to pandas DataFrame"
   ]
  },
  {
   "cell_type": "code",
   "execution_count": null,
   "metadata": {},
   "outputs": [],
   "source": [
    "import pandas as pd\n",
    "pd.json_normalize(nested_json['SD1031']['R']['1.2.276.0.75.2.5.80.25.3.221018115130492.345048637379.430073977'], sep='_').head(3)"
   ]
  }
 ],
 "metadata": {
  "kernelspec": {
   "display_name": "base",
   "language": "python",
   "name": "python3"
  },
  "language_info": {
   "codemirror_mode": {
    "name": "ipython",
    "version": 3
   },
   "file_extension": ".py",
   "mimetype": "text/x-python",
   "name": "python",
   "nbconvert_exporter": "python",
   "pygments_lexer": "ipython3",
   "version": "3.12.4"
  }
 },
 "nbformat": 4,
 "nbformat_minor": 2
}
