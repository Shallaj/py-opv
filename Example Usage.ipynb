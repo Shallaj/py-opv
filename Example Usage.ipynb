{
 "cells": [
  {
   "cell_type": "markdown",
   "metadata": {},
   "source": [
    "# PyOPV"
   ]
  },
  {
   "cell_type": "markdown",
   "metadata": {},
   "source": [
    "## Installation"
   ]
  },
  {
   "cell_type": "code",
   "execution_count": null,
   "metadata": {},
   "outputs": [],
   "source": [
    "pip install pyopv"
   ]
  },
  {
   "cell_type": "markdown",
   "metadata": {},
   "source": [
    "## Example usage"
   ]
  },
  {
   "cell_type": "markdown",
   "metadata": {},
   "source": [
    "### Importing"
   ]
  },
  {
   "cell_type": "code",
   "execution_count": 1,
   "metadata": {},
   "outputs": [],
   "source": [
    "import pyopv"
   ]
  },
  {
   "cell_type": "markdown",
   "metadata": {},
   "source": [
    "## Getting latest DICOM Standards"
   ]
  },
  {
   "cell_type": "code",
   "execution_count": 2,
   "metadata": {},
   "outputs": [
    {
     "name": "stdout",
     "output_type": "stream",
     "text": [
      "Up to date DICOM standard json files successfully extracted.\n",
      "Up to date DICOM attributes successfully extracted for CIOD: ophthalmic-visual-field-static-perimetry-measurements.\n",
      "Up to date DICOM attributes successfully written to /ophthalmic-visual-field-static-perimetry-measurements.csv.\n",
      "Headers:\n",
      "           tag                        name                   keyword  \\\n",
      "1  (0008,0005)      Specific Character Set      SpecificCharacterSet   \n",
      "5  (0008,0012)      Instance Creation Date      InstanceCreationDate   \n",
      "6  (0008,0013)      Instance Creation Time      InstanceCreationTime   \n",
      "7  (0008,0014)        Instance Creator UID        InstanceCreatorUID   \n",
      "8  (0008,0015)  Instance Coercion DateTime  InstanceCoercionDateTime   \n",
      "\n",
      "  valueRepresentation valueMultiplicity retired        id  \n",
      "1                  CS               1-n       N  00080005  \n",
      "5                  DA                 1       N  00080012  \n",
      "6                  TM                 1       N  00080013  \n",
      "7                  UI                 1       N  00080014  \n",
      "8                  DT                 1       N  00080015  \n"
     ]
    }
   ],
   "source": [
    "from pyopv import get_dicom_standard # if you run this cell, you will get the latest SAP DICOM standard\n",
    "get_dicom_standard() # if you run this cell, you will get the latest SAP DICOM standard and writes in a csv file in the same directory as this notebook"
   ]
  },
  {
   "cell_type": "markdown",
   "metadata": {},
   "source": [
    "### Checking missing tags"
   ]
  },
  {
   "cell_type": "markdown",
   "metadata": {},
   "source": [
    "A single file"
   ]
  },
  {
   "cell_type": "code",
   "execution_count": null,
   "metadata": {},
   "outputs": [
    {
     "data": {
      "text/html": [
       "<div>\n",
       "<style scoped>\n",
       "    .dataframe tbody tr th:only-of-type {\n",
       "        vertical-align: middle;\n",
       "    }\n",
       "\n",
       "    .dataframe tbody tr th {\n",
       "        vertical-align: top;\n",
       "    }\n",
       "\n",
       "    .dataframe thead th {\n",
       "        text-align: right;\n",
       "    }\n",
       "</style>\n",
       "<table border=\"1\" class=\"dataframe\">\n",
       "  <thead>\n",
       "    <tr style=\"text-align: right;\">\n",
       "      <th></th>\n",
       "      <th>name</th>\n",
       "      <th>description</th>\n",
       "      <th>type</th>\n",
       "      <th>vm</th>\n",
       "      <th>vr</th>\n",
       "      <th>tag</th>\n",
       "    </tr>\n",
       "  </thead>\n",
       "  <tbody>\n",
       "    <tr>\n",
       "      <th>0</th>\n",
       "      <td>DataSetName</td>\n",
       "      <td>The name assigned to the data set.</td>\n",
       "      <td>1</td>\n",
       "      <td>1.0</td>\n",
       "      <td>LO</td>\n",
       "      <td>(0024, 0306)</td>\n",
       "    </tr>\n",
       "    <tr>\n",
       "      <th>1</th>\n",
       "      <td>DataSetVersion</td>\n",
       "      <td>The software version identifier assigned to th...</td>\n",
       "      <td>1</td>\n",
       "      <td>1.0</td>\n",
       "      <td>LO</td>\n",
       "      <td>(0024, 0307)</td>\n",
       "    </tr>\n",
       "    <tr>\n",
       "      <th>2</th>\n",
       "      <td>DataSetSource</td>\n",
       "      <td>Source of the data set e.g. the name of the ma...</td>\n",
       "      <td>1</td>\n",
       "      <td>1.0</td>\n",
       "      <td>LO</td>\n",
       "      <td>(0024, 0308)</td>\n",
       "    </tr>\n",
       "    <tr>\n",
       "      <th>3</th>\n",
       "      <td>DataSetDescription</td>\n",
       "      <td>Description of the data set.</td>\n",
       "      <td>3</td>\n",
       "      <td>1.0</td>\n",
       "      <td>LO</td>\n",
       "      <td>(0024, 0309)</td>\n",
       "    </tr>\n",
       "    <tr>\n",
       "      <th>4</th>\n",
       "      <td>AlgorithmFamilyCodeSequence</td>\n",
       "      <td>The family of algorithm(s) that best describes...</td>\n",
       "      <td>1</td>\n",
       "      <td>1.0</td>\n",
       "      <td>SQ</td>\n",
       "      <td>(0066, 002F)</td>\n",
       "    </tr>\n",
       "    <tr>\n",
       "      <th>...</th>\n",
       "      <td>...</td>\n",
       "      <td>...</td>\n",
       "      <td>...</td>\n",
       "      <td>...</td>\n",
       "      <td>...</td>\n",
       "      <td>...</td>\n",
       "    </tr>\n",
       "    <tr>\n",
       "      <th>73</th>\n",
       "      <td>PupilSize</td>\n",
       "      <td>The horizontal diameter measurement of the pup...</td>\n",
       "      <td>2</td>\n",
       "      <td>1.0</td>\n",
       "      <td>FD</td>\n",
       "      <td>(0046, 0044)</td>\n",
       "    </tr>\n",
       "    <tr>\n",
       "      <th>74</th>\n",
       "      <td>PupilDilated</td>\n",
       "      <td>The patient's pupils were pharmacologically di...</td>\n",
       "      <td>2</td>\n",
       "      <td>1.0</td>\n",
       "      <td>CS</td>\n",
       "      <td>(0022, 000D)</td>\n",
       "    </tr>\n",
       "    <tr>\n",
       "      <th>75</th>\n",
       "      <td>IntraOcularPressure</td>\n",
       "      <td>Value of intraocular pressure in mmHg.</td>\n",
       "      <td>3</td>\n",
       "      <td>1.0</td>\n",
       "      <td>FL</td>\n",
       "      <td>(0022, 000B)</td>\n",
       "    </tr>\n",
       "    <tr>\n",
       "      <th>76</th>\n",
       "      <td>VisualAcuityMeasurementSequence</td>\n",
       "      <td>Measurements of a patient's visual acuity.</td>\n",
       "      <td>3</td>\n",
       "      <td>1.0</td>\n",
       "      <td>SQ</td>\n",
       "      <td>(0024, 0110)</td>\n",
       "    </tr>\n",
       "    <tr>\n",
       "      <th>77</th>\n",
       "      <td>CodeMeaning</td>\n",
       "      <td>Test Strategy</td>\n",
       "      <td>1</td>\n",
       "      <td>1.0</td>\n",
       "      <td>LO</td>\n",
       "      <td>(0008, 0104)</td>\n",
       "    </tr>\n",
       "  </tbody>\n",
       "</table>\n",
       "<p>78 rows × 6 columns</p>\n",
       "</div>"
      ],
      "text/plain": [
       "                               name  \\\n",
       "0                       DataSetName   \n",
       "1                    DataSetVersion   \n",
       "2                     DataSetSource   \n",
       "3                DataSetDescription   \n",
       "4       AlgorithmFamilyCodeSequence   \n",
       "..                              ...   \n",
       "73                        PupilSize   \n",
       "74                     PupilDilated   \n",
       "75              IntraOcularPressure   \n",
       "76  VisualAcuityMeasurementSequence   \n",
       "77                      CodeMeaning   \n",
       "\n",
       "                                          description type   vm  vr  \\\n",
       "0                  The name assigned to the data set.    1  1.0  LO   \n",
       "1   The software version identifier assigned to th...    1  1.0  LO   \n",
       "2   Source of the data set e.g. the name of the ma...    1  1.0  LO   \n",
       "3                        Description of the data set.    3  1.0  LO   \n",
       "4   The family of algorithm(s) that best describes...    1  1.0  SQ   \n",
       "..                                                ...  ...  ...  ..   \n",
       "73  The horizontal diameter measurement of the pup...    2  1.0  FD   \n",
       "74  The patient's pupils were pharmacologically di...    2  1.0  CS   \n",
       "75             Value of intraocular pressure in mmHg.    3  1.0  FL   \n",
       "76         Measurements of a patient's visual acuity.    3  1.0  SQ   \n",
       "77                                      Test Strategy    1  1.0  LO   \n",
       "\n",
       "             tag  \n",
       "0   (0024, 0306)  \n",
       "1   (0024, 0307)  \n",
       "2   (0024, 0308)  \n",
       "3   (0024, 0309)  \n",
       "4   (0066, 002F)  \n",
       "..           ...  \n",
       "73  (0046, 0044)  \n",
       "74  (0022, 000D)  \n",
       "75  (0022, 000B)  \n",
       "76  (0024, 0110)  \n",
       "77  (0008, 0104)  \n",
       "\n",
       "[78 rows x 6 columns]"
      ]
     },
     "metadata": {},
     "output_type": "display_data"
    }
   ],
   "source": [
    "from pyopv import OPVDicom\n",
    "\n",
    "file_path = '/Users/shallaj/Library/CloudStorage/OneDrive-UniversityofCalifornia,SanDiegoHealth/VF Data Standards/opv_dicom_omop/examples/sample_files/SD1031_20220908_OD_OPV.dcm'\n",
    "m_opvdicom = pyopv.read_dicom(file_path)\n",
    "missing_tags_df, incorrect_tags_df= m_opvdicom.check_dicom_compliance() # check if the dicom file is compliant with the standard\n",
    "display(missing_tags_df)\n",
    "display(incorrect_tags_df)"
   ]
  },
  {
   "cell_type": "markdown",
   "metadata": {},
   "source": [
    "Entire directory"
   ]
  },
  {
   "cell_type": "code",
   "execution_count": null,
   "metadata": {},
   "outputs": [],
   "source": [
    "m_opvdicoms = pyopv.read_dicom_directory('/Users/shallaj/Library/CloudStorage/OneDrive-UniversityofCalifornia,SanDiegoHealth/VF Data Standards/opv_dicom_omop/examples/sample_files', file_extension='dcm')\n",
    "missingtags_df = m_opvdicoms.check_dicom_compliance()\n",
    "missingtags_df.head(5)\n",
    "\n"
   ]
  },
  {
   "cell_type": "markdown",
   "metadata": {},
   "source": [
    "## Converting OPV DICOM to Pandas DataFrame"
   ]
  },
  {
   "cell_type": "markdown",
   "metadata": {},
   "source": [
    "*#* This snippet converts the entire dicom file into a very long pandas DataFrame"
   ]
  },
  {
   "cell_type": "code",
   "execution_count": null,
   "metadata": {},
   "outputs": [],
   "source": [
    "from pyopv import OPVDicom\n",
    "\n",
    "mopv = pyopv.read_dicom('/Users/shallaj/Library/CloudStorage/OneDrive-UniversityofCalifornia,SanDiegoHealth/VF Data Standards/opv_dicom_omop/examples/sample_files/SD1031_20230914_OD_OPV.dcm') \n",
    "mopv_df = mopv.to_pandas()\n",
    "mopv_df.head(2)\n"
   ]
  },
  {
   "cell_type": "markdown",
   "metadata": {},
   "source": [
    "## Bulk Data\n"
   ]
  },
  {
   "cell_type": "code",
   "execution_count": null,
   "metadata": {},
   "outputs": [],
   "source": [
    "from pyopv import OPVDicomSet\n",
    "\n",
    "mopv_set = pyopv.read_dicom_directory('/Users/shallaj/Library/CloudStorage/OneDrive-UniversityofCalifornia,SanDiegoHealth/VF Data Standards/opv_dicom_omop/examples/sample_files', file_extension='dcm')\n",
    "result_df, error_df = mopv_set.to_pandas()\n",
    "display(result_df)\n",
    "display(error_df)"
   ]
  },
  {
   "cell_type": "markdown",
   "metadata": {},
   "source": [
    "# JSON conversion\n",
    "* this snippet will be updated in future versions to accomodate FHIR IG because that IG is not currently available. "
   ]
  },
  {
   "cell_type": "code",
   "execution_count": null,
   "metadata": {},
   "outputs": [],
   "source": [
    "import pydicom\n",
    "\n",
    "file_path =  '/Users/shallaj/Library/CloudStorage/OneDrive-UniversityofCalifornia,SanDiegoHealth/VF Data Standards/opv_dicom_omop/examples/sample_files/SD1031_20230914_OD_OPV.dcm'  # add file path here e.g. data/MY_OPV_FILE.dcm\n",
    "ds = pydicom.dcmread(file_path)\n",
    "json = ds.to_json_dict()\n",
    "json['00080080']['Value']"
   ]
  },
  {
   "cell_type": "code",
   "execution_count": null,
   "metadata": {},
   "outputs": [],
   "source": [
    "# get nested values\n",
    "json = ds.to_json_dict()\n",
    "points = json['00240089']['Value'][0]['00240097']\n",
    "points"
   ]
  },
  {
   "cell_type": "markdown",
   "metadata": {},
   "source": [
    "### Getting pointwise data"
   ]
  },
  {
   "cell_type": "markdown",
   "metadata": {},
   "source": [
    "Single file"
   ]
  },
  {
   "cell_type": "code",
   "execution_count": null,
   "metadata": {},
   "outputs": [],
   "source": [
    "m_opvdicom = pyopv.read_dicom('/Users/shallaj/Library/CloudStorage/OneDrive-UniversityofCalifornia,SanDiegoHealth/VF Data Standards/opv_dicom_omop/examples/sample_files/SD1031_20230914_OD_OPV.dcm')\n",
    "\n",
    "pointwise_data = m_opvdicom.pointwise_to_pandas()\n",
    "pointwise_data.head(5)"
   ]
  },
  {
   "cell_type": "markdown",
   "metadata": {},
   "source": [
    "Entire directory"
   ]
  },
  {
   "cell_type": "code",
   "execution_count": null,
   "metadata": {},
   "outputs": [],
   "source": [
    "m_opvdicoms = pyopv.read_dicom_directory('/Users/shallaj/Library/CloudStorage/OneDrive-UniversityofCalifornia,SanDiegoHealth/VF Data Standards/opv_dicom_omop/examples/sample_files', file_extension='dcm')\n",
    "\n",
    "pointwise_data, error_df = m_opvdicoms.pointwise_to_pandas()\n",
    "pointwise_data.head(3)"
   ]
  },
  {
   "cell_type": "markdown",
   "metadata": {},
   "source": [
    "Writing pointwise data into JSON\n",
    "* single file"
   ]
  },
  {
   "cell_type": "code",
   "execution_count": null,
   "metadata": {},
   "outputs": [],
   "source": [
    "m_opvdicom = pyopv.read_dicom('/Users/shallaj/Library/CloudStorage/OneDrive-UniversityofCalifornia,SanDiegoHealth/VF Data Standards/opv_dicom_omop/examples/sample_files/SD1031_20230914_OD_OPV.dcm')\n",
    "\n",
    "pointwise_data = m_opvdicom.pointwise_to_nested_json()\n",
    "pointwise_data['SD1031']['R']['1.2.276.0.75.2.5.80.25.3.231115115903087.345048637379.415558310'][0]"
   ]
  },
  {
   "cell_type": "markdown",
   "metadata": {},
   "source": [
    "* Bulk data"
   ]
  },
  {
   "cell_type": "code",
   "execution_count": null,
   "metadata": {},
   "outputs": [],
   "source": [
    "from pyopv import OPVDicomSet\n",
    "\n",
    "directory_path = '/Users/shallaj/Library/CloudStorage/OneDrive-UniversityofCalifornia,SanDiegoHealth/VF Data Standards/opv_dicom_omop/examples/sample_files'\n",
    "m_opvdicoms = pyopv.read_dicom_directory(directory_path, file_extension='dcm')\n",
    "nested_json = m_opvdicoms.opvdicoms_pointwise_to_nested_json()\n",
    "nested_json['SD1031']['R']['1.2.276.0.75.2.5.80.25.3.221018115130492.345048637379.430073977'][0]"
   ]
  },
  {
   "cell_type": "markdown",
   "metadata": {},
   "source": [
    "# Example conversion of a JSON resource to pandas DataFrame"
   ]
  },
  {
   "cell_type": "code",
   "execution_count": null,
   "metadata": {},
   "outputs": [],
   "source": [
    "import pandas as pd\n",
    "pd.json_normalize(nested_json['SD1031']['R']['1.2.276.0.75.2.5.80.25.3.221018115130492.345048637379.430073977'], sep='_').head(3)"
   ]
  }
 ],
 "metadata": {
  "kernelspec": {
   "display_name": "base",
   "language": "python",
   "name": "python3"
  },
  "language_info": {
   "codemirror_mode": {
    "name": "ipython",
    "version": 3
   },
   "file_extension": ".py",
   "mimetype": "text/x-python",
   "name": "python",
   "nbconvert_exporter": "python",
   "pygments_lexer": "ipython3",
   "version": "3.12.4"
  }
 },
 "nbformat": 4,
 "nbformat_minor": 2
}
